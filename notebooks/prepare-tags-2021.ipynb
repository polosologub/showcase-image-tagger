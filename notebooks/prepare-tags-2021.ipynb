{
 "cells": [
  {
   "cell_type": "code",
   "execution_count": 9,
   "metadata": {},
   "outputs": [],
   "source": [
    "import pandas as pd\n",
    "from pandas import json_normalize \n",
    "import numpy as np\n",
    "import json \n",
    "import os"
   ]
  },
  {
   "cell_type": "code",
   "execution_count": 16,
   "metadata": {},
   "outputs": [],
   "source": [
    "#full tags list 2021\n",
    "tags2021 = pd.read_json(\"../data/showcase_tags_2021.json\")\n",
    "tags2021.columns = ['Tag']"
   ]
  },
  {
   "cell_type": "code",
   "execution_count": 17,
   "metadata": {},
   "outputs": [],
   "source": [
    "#get the tags from 2020 and 2021 that will be filtered out\n",
    "courses2020 = pd.read_excel(\"../data/2020-tags.xlsm\", sheet_name='Courses')\n",
    "maybe_risky2020 = pd.read_excel(\"../data/2020-tags.xlsm\", sheet_name='Maybe Risky')\n",
    "risky2020 = pd.read_excel(\"../data/2020-tags.xlsm\", sheet_name='Risky')\n",
    "\n",
    "courses2021 = pd.read_excel(\"../data/2021-new-tags.xlsm\", sheet_name='Courses')\n",
    "maybe_risky2021 = pd.read_excel(\"../data/2021-new-tags.xlsm\", sheet_name='Maybe Risky')\n",
    "risky2021 = pd.read_excel(\"../data/2021-new-tags.xlsm\", sheet_name='Risky')"
   ]
  },
  {
   "cell_type": "code",
   "execution_count": 18,
   "metadata": {},
   "outputs": [],
   "source": [
    "#convert to arrays\n",
    "courses2020 = courses2020['Tag'].to_numpy()\n",
    "maybe_risky2020 = maybe_risky2020['Tag'].to_numpy()\n",
    "risky2020 = risky2020['Tag'].to_numpy()\n",
    "\n",
    "courses2021 = courses2021['Tag'].to_numpy()\n",
    "maybe_risky2021 = maybe_risky2021['Tag'].to_numpy()\n",
    "risky2021 = risky2021['Tag'].to_numpy()"
   ]
  },
  {
   "cell_type": "code",
   "execution_count": 19,
   "metadata": {},
   "outputs": [
    {
     "data": {
      "text/plain": [
       "array(['CamFADArtDrawingConceptualPractice', 'CamFADArtPainting',\n",
       "       'CamFADArtPhotographyTimeBasedMedia', 'CamFADArtSculpture',\n",
       "       'CamFADCommunicationFilmAnimation\\xa0',\n",
       "       'CamFADCommunicationGraphics', 'CamFADCommunicationIllustration',\n",
       "       'CamFADDesign3DProductSpatial', 'CamFADDesignTextileCraft',\n",
       "       'CamFADDesignTheatreScreenPerformance',\n",
       "       'CSMBAArchBuildingTheCivic', 'CSMBAArchCityWithinCity',\n",
       "       'CSMBAArchCivicExpressionThePublicLibrary',\n",
       "       'CSMBAArchContextualStudies', 'CSMBAArchDesignStudio',\n",
       "       'CSMBAArchDissertation', 'CSMBAArchHyperAdjacency',\n",
       "       'CSMBAArchImaginingCollaborativeFutures', 'CSMBAArchMedia',\n",
       "       'CSMBAArchProfessionalPractice',\n",
       "       'CSMBAArchPrototypingTheCommonCity', 'CSMBAArchTechnicalStudies',\n",
       "       'CSMBAArchTheAestheticsOfSustainability', 'CSMBAArchTheField',\n",
       "       'CSMBACCCEvent', 'CSMBACCCExhibition', 'CSMBACCCLive',\n",
       "       'CSMBACCCPublication', 'CSMBAFineArt2D', 'CSMBAFineArt3D',\n",
       "       'CSMBAFineArt4D', 'CSMBAFineArtXD', 'CSMBiodesign',\n",
       "       'CSMDesignActivism', 'CSMFAD3DimensionalDesignArchitecture',\n",
       "       'CSMFAD4D', 'CSMFADArchitectureSpatialDesign', 'CSMFADFashion',\n",
       "       'CSMFADFashionCommunication', 'CSMFADFashionTextiles',\n",
       "       'CSMFADFineArt', 'CSMFADGraphicCommunicationDesign',\n",
       "       'CSMFADGraphicDesign', 'CSMFADIllustration',\n",
       "       'CSMFADJewelleryFootwearFashionAccessories', 'CSMFADPainting',\n",
       "       'CSMFADPhotography', 'CSMFADProductDesignCeramics',\n",
       "       'CSMFADSculpture', 'CSMFADTextiles', 'CSMMADesignCeramics',\n",
       "       'CSMMADesignFurniture', 'CSMMADesignJewellery',\n",
       "       'CSMMAIMAWakeInTheContemporaryMarketplace', 'CSMMAIMEvents',\n",
       "       'CSMMAIMInitiatingNovelWavePackets', 'CSMMAIMPublication',\n",
       "       'CSMMAIMReinventingOrganisationalWaves',\n",
       "       'CSMMAIMRewiringFashionRings', 'CSMMAIMRipples', 'CSMMArchCivic',\n",
       "       'CSMMArchClimate', 'CSMMArchDevelopment', 'CSMMArchInclusivity',\n",
       "       'CSMSpatialMakingWeek', 'CSMSpatialStudentSponsoredProject',\n",
       "       'CSMTextilesKnit', 'CSMTextilesPrint', 'CSMTextilesWeave',\n",
       "       'LCCContextualAndTheoreticalStudies',\n",
       "       'CSMMAIMReawakeningTheMarketplace',\n",
       "       'CSMMAIMRegeneratingFashionCircles',\n",
       "       'CSMMAIMReimaginingOrganisationalWaves',\n",
       "       'CSMMAIMRipplingWaysOfBeing', 'ArtAndClass', 'Balaclava', 'Bride',\n",
       "       'Citizenship', 'Civic', 'Control', 'Coronavirus', 'Deception',\n",
       "       'Development', 'DisruptionInterruptionAndDisturbance',\n",
       "       'Disruptive', 'Domestic', 'Domesticity', 'Dystopia', 'Dystopian',\n",
       "       'Dystopic', 'Equality', 'Grotesque', 'High', 'Instability',\n",
       "       'Jungle', 'Leadership', 'Oppression', 'Order', 'Oversized',\n",
       "       'Pandemic', 'Power', 'PowerStructures', 'Prosthetic',\n",
       "       'ProstheticApplication', 'ProstheticMakeup', 'ProstheticMaking',\n",
       "       'Prosthetics', 'Regret', 'Resistance', 'Scary', 'Shame', 'Taste',\n",
       "       'Tradition', 'Traditional', 'Trauma', 'Viral', 'Weave',\n",
       "       'Inclusivity', 'NeoLiberal', 'Precarity', 'Scarcity', 'Clickbait',\n",
       "       'FakeNews', 'Folk', 'Furlough', 'Gaslighting', 'Murder',\n",
       "       'PoliceBrutality', 'UnconsciousBias', 'Vaccination', 'Vaccine',\n",
       "       'Waste', 'Africa', 'African', 'AfroFuturism', 'Amazonian',\n",
       "       'Androgynous', 'Androgyny', 'Anthropological', 'Anthropology',\n",
       "       'Appropriation', 'Asian', 'Black', 'BlackLivesMatter', 'Brazil',\n",
       "       'British', 'Brown', 'ChallengingGenderStereotypes', 'China',\n",
       "       'Chinese', 'ChineseTraditions', 'Colombia', 'Council', 'Covid19',\n",
       "       'Decolonisation', 'Diaspora', 'Discrimination', 'Diversity',\n",
       "       'Drag', 'DragMakeup', 'EmpireAndDecolonisation', 'England',\n",
       "       'Exotic', 'Female', 'FemaleEmpowerment', 'FemaleIdentity',\n",
       "       'Feminine', 'Femininity', 'French', 'Gangster', 'Gender',\n",
       "       'GenderFluid', 'GenderFluidity', 'GenderlessIdentities', 'Girl',\n",
       "       'GirlHood', 'Girls', 'Girly', 'Greek', 'HongKong', 'Ideology',\n",
       "       'Indian', 'Indigenous', 'IndigenousKnowledges',\n",
       "       'IndigenousKnowledgesAndCosmologies', 'Japan', 'Japanese',\n",
       "       'Korean', 'KPop', 'LGBTQ+', 'LGBTQ+IdentityAndSpace', 'Male',\n",
       "       'Man', 'Masculinity', 'Men', 'MensFashion', 'Menswear',\n",
       "       'MenswearFashion', 'Mother', 'Motherhood', 'Muse', 'Nigeria',\n",
       "       'Nigerian', 'NonBinary', 'Patriarchy', 'Pirate', 'PlusSize',\n",
       "       'PostcolonialGreen', 'Postcolonialism', 'PrimalScream',\n",
       "       'Primitives', 'Prison', 'Propaganda', 'Queer', 'QueerBodies',\n",
       "       'Radical', 'Rebel', 'Rebellion', 'Religion', 'Religious', 'Ritual',\n",
       "       'Senegal', 'Sexism', 'SocialClass', 'SocialJustice', 'Spiritual',\n",
       "       'SpiritualArt', 'Spirituality', 'SystemicChange', 'Tacky', 'Trash',\n",
       "       'Unisex', 'White', 'Women', 'Womenswear', 'WorkingClass', 'Yellow',\n",
       "       'AltRight', 'AntiRacism', 'Autism', 'Autistic', 'BAME', 'Binary',\n",
       "       'BIPOC', 'BlackAndMinorityEthnic', 'Blind', 'Colonialism',\n",
       "       'CulturalIdentity', 'Deaf', 'Disability', 'Displaced',\n",
       "       'Displacement', 'Dyslexia', 'Dyslexic', 'EthnicMinority',\n",
       "       'Fascism', 'Gay', 'GenderPayGap', 'Homeless', 'Homelessness',\n",
       "       'HumanRights', 'Immigration', 'Impairment', 'Latin', 'Latinx',\n",
       "       'Marginalisation', 'Marginalised', 'Migrant', 'Migration',\n",
       "       'NeuroDiversity', 'PeopleOfColour', 'PersonOfColour', 'POC',\n",
       "       'Refugee', 'Slavery', 'SlaveTrade', 'Trans', 'Transgender',\n",
       "       'VisuallyImpaired', 'WhitePrivilege', 'WhiteSupremacy', 'Windrush',\n",
       "       'Womxn', 'Ability', 'Ableism', 'Ageism', 'Aggression', 'Ally ',\n",
       "       'Allyship', 'AntiRacist', 'AntiVax', 'Bias', 'BodyShaming',\n",
       "       'CancelCulture', 'Cisgender', 'Class', 'Classism', 'Colonial',\n",
       "       'Father ', 'Fatherhood', 'FatShaming', 'Fundamentalism',\n",
       "       'Genderism', 'HistoricInjustices', 'Incarceration', 'Injustice',\n",
       "       'Othering', 'Postcolonial', 'PrisonIndustrialComplex',\n",
       "       'RacialJustice', 'Racism', 'Secular', 'TERF', 'Transition',\n",
       "       'Transitioning', 'Transphobia', 'Violence', 'VirtueSignalling',\n",
       "       'Woman', 'SocialHousing'], dtype=object)"
      ]
     },
     "execution_count": 19,
     "metadata": {},
     "output_type": "execute_result"
    }
   ],
   "source": [
    "#make them into one filter list\n",
    "filter_tags = np.concatenate((courses2020, courses2021, maybe_risky2020, maybe_risky2021, risky2020, risky2021))\n",
    "filter_tags"
   ]
  },
  {
   "cell_type": "code",
   "execution_count": 20,
   "metadata": {},
   "outputs": [],
   "source": [
    "#filter 2021 tags\n",
    "tags2021_filtered = tags2021[~tags2021['Tag'].isin(filter_tags)]"
   ]
  },
  {
   "cell_type": "code",
   "execution_count": 34,
   "metadata": {},
   "outputs": [],
   "source": [
    "#save filtered list\n",
    "tags2021_filtered.to_excel(\"../data/tags2021_filtered.xlsx\", index=False)"
   ]
  },
  {
   "cell_type": "code",
   "execution_count": 37,
   "metadata": {},
   "outputs": [],
   "source": [
    "df_filter = pd.DataFrame(filter_tags)\n",
    "df_filter.columns = ['Tag']"
   ]
  },
  {
   "cell_type": "code",
   "execution_count": 39,
   "metadata": {},
   "outputs": [],
   "source": [
    "#save filter list for text tagger \n",
    "df_filter.to_excel(\"../data/tags_filter_2021.xlsx\", index=False)"
   ]
  }
 ],
 "metadata": {
  "kernelspec": {
   "display_name": "Python 3",
   "language": "python",
   "name": "python3"
  },
  "language_info": {
   "codemirror_mode": {
    "name": "ipython",
    "version": 3
   },
   "file_extension": ".py",
   "mimetype": "text/x-python",
   "name": "python",
   "nbconvert_exporter": "python",
   "pygments_lexer": "ipython3",
   "version": "3.8.3"
  }
 },
 "nbformat": 4,
 "nbformat_minor": 4
}
